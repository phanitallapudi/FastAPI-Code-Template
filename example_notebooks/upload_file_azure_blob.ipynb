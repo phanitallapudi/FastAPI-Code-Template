{
 "cells": [
  {
   "cell_type": "code",
   "execution_count": 1,
   "metadata": {},
   "outputs": [],
   "source": [
    "from azure.storage.blob import BlobServiceClient, BlobClient, ContainerClient\n",
    "from dotenv import load_dotenv\n",
    "\n",
    "import os\n",
    "import uuid"
   ]
  },
  {
   "cell_type": "code",
   "execution_count": 2,
   "metadata": {},
   "outputs": [
    {
     "data": {
      "text/plain": [
       "True"
      ]
     },
     "execution_count": 2,
     "metadata": {},
     "output_type": "execute_result"
    }
   ],
   "source": [
    "load_dotenv()"
   ]
  },
  {
   "cell_type": "code",
   "execution_count": 3,
   "metadata": {},
   "outputs": [],
   "source": [
    "connection_string  = os.getenv(\"BLOB_CONNECTION_STRING\")\n",
    "container_name = os.getenv(\"BLOB_PROFILE_CONTAINER\")"
   ]
  },
  {
   "cell_type": "code",
   "execution_count": 8,
   "metadata": {},
   "outputs": [
    {
     "data": {
      "text/plain": [
       "'b81c844d-eaca-45a0-be4d-b8f443e2c03a'"
      ]
     },
     "execution_count": 8,
     "metadata": {},
     "output_type": "execute_result"
    }
   ],
   "source": [
    "file_path = r\"C:\\Users\\PATALLAP\\Downloads\\CV\\829427.pdf\"\n",
    "blob_name = str(uuid.uuid4())\n",
    "\n",
    "blob_name"
   ]
  },
  {
   "cell_type": "code",
   "execution_count": null,
   "metadata": {},
   "outputs": [],
   "source": [
    "blob_service_client = BlobServiceClient.from_connection_string(connection_string)\n",
    "container_client = blob_service_client.get_container_client(container_name)\n",
    "\n",
    "blob_name = blob_name + \".\" + file_path.split(\".\")[-1]\n",
    "blob_client = container_client.get_blob_client(blob_name)\n",
    "\n",
    "with open(file_path, \"rb\") as data:\n",
    "    blob_client.upload_blob(data)\n",
    "\n",
    "blob_url = blob_client.url\n",
    "blob_url"
   ]
  },
  {
   "cell_type": "code",
   "execution_count": 11,
   "metadata": {},
   "outputs": [],
   "source": [
    "def delete_blob(blob_url, connection_string, container_name):\n",
    "    # Parse the blob URL to extract the blob name\n",
    "    blob_name = blob_url.split('/')[-1]\n",
    "\n",
    "    # Create BlobServiceClient using connection string\n",
    "    blob_service_client = BlobServiceClient.from_connection_string(connection_string)\n",
    "\n",
    "    # Get a container client\n",
    "    container_client = blob_service_client.get_container_client(container_name)\n",
    "\n",
    "    # Get a blob client\n",
    "    blob_client = container_client.get_blob_client(blob_name)\n",
    "\n",
    "    # Delete the blob\n",
    "    blob_client.delete_blob()\n",
    "\n",
    "    print(f\"Blob '{blob_name}' deleted successfully.\")"
   ]
  },
  {
   "cell_type": "code",
   "execution_count": 15,
   "metadata": {},
   "outputs": [
    {
     "name": "stdout",
     "output_type": "stream",
     "text": [
      "Blob 'b81c844d-eaca-45a0-be4d-b8f443e2c03apdf.pdf' deleted successfully.\n"
     ]
    }
   ],
   "source": [
    "delete_blob(blob_name, connection_string, container_name)"
   ]
  },
  {
   "cell_type": "code",
   "execution_count": null,
   "metadata": {},
   "outputs": [],
   "source": []
  }
 ],
 "metadata": {
  "kernelspec": {
   "display_name": "venv",
   "language": "python",
   "name": "python3"
  },
  "language_info": {
   "codemirror_mode": {
    "name": "ipython",
    "version": 3
   },
   "file_extension": ".py",
   "mimetype": "text/x-python",
   "name": "python",
   "nbconvert_exporter": "python",
   "pygments_lexer": "ipython3",
   "version": "3.11.5"
  }
 },
 "nbformat": 4,
 "nbformat_minor": 2
}
