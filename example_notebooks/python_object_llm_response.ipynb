{
 "cells": [
  {
   "cell_type": "code",
   "execution_count": 1,
   "metadata": {},
   "outputs": [],
   "source": [
    "from langchain_community.document_loaders import UnstructuredFileLoader\n",
    "from langchain_core.prompts import PromptTemplate\n",
    "from langchain_openai import AzureChatOpenAI\n",
    "from langchain.chains import LLMChain\n",
    "from dotenv import load_dotenv\n",
    "\n",
    "import os"
   ]
  },
  {
   "cell_type": "code",
   "execution_count": 2,
   "metadata": {},
   "outputs": [],
   "source": [
    "load_dotenv()\n",
    "\n",
    "os.environ[\"AZURE_OPENAI_API_KEY\"] = os.getenv('AZURE_OPENAI_API_KEY')\n",
    "os.environ[\"AZURE_OPENAI_ENDPOINT\"] = os.getenv('AZURE_OPENAI_ENDPOINT')"
   ]
  },
  {
   "cell_type": "code",
   "execution_count": 3,
   "metadata": {},
   "outputs": [],
   "source": [
    "upload_resume_prompt = \"\"\"Analyze the provided document and retrieve the following data:\n",
    "- Name\n",
    "- Experience (in years) (Calculate based on experience if not mentioned) (Need just give a number nothing else, no reasoning)\n",
    "- Domain (e.g., Data Science, Fullstack Development) (Need to strictly be specified to IT industry)\n",
    "- Skills (e.g., Python, Java, Azure)\n",
    "\n",
    "Here's an example format for returning the data:\n",
    "\n",
    "name: John Doe\n",
    "experience: 5 (You need to strictly give just a number, nothing else)\n",
    "domain: Fullstack Development\n",
    "skills: Python, Java, Azure, MongoDB\n",
    "\n",
    "Document to analyze: {data}\n",
    "\n",
    "Note: Follow the example format strictly, including letter casing. Omit Employee ID if not mentioned.\n",
    "\"\"\""
   ]
  },
  {
   "cell_type": "code",
   "execution_count": 4,
   "metadata": {},
   "outputs": [
    {
     "name": "stderr",
     "output_type": "stream",
     "text": [
      "c:\\FastAPI Projects\\HRTech.API\\venv\\Lib\\site-packages\\tqdm\\auto.py:21: TqdmWarning: IProgress not found. Please update jupyter and ipywidgets. See https://ipywidgets.readthedocs.io/en/stable/user_install.html\n",
      "  from .autonotebook import tqdm as notebook_tqdm\n"
     ]
    },
    {
     "data": {
      "text/plain": [
       "[Document(page_content='Panindhra Tallapudi Analyst/Software Engineer\\n\\nExperience : 2 years\\n\\nBase Location:\\n\\nBangalore\\n\\nEmail ID:\\n\\npanindhra.a.tallapudi@gmail.com\\n\\nMobile No:\\n\\n+91 8919512912\\n\\nGrade:\\n\\nA4\\n\\nStrengths\\n\\nAchievement\\n\\nPractical exposure to creating microservices with .NET Web API and implementing JWT authentication and database integration\\n\\nTrain Reservation System\\n\\n\\n\\nIntermediate-level proficiency in developing microservices with .NET Framework and .NET Web API and FastAPI using Python\\n\\nExperience in implementing swagger for testing the\\n\\nAccomplished an end-to-end case study of a Train Reservation System, incorporating JWT authentication, Swagger for API documentation, payment integration, and utilizing Angular for the user interface.\\n\\nApplication Programming Interface.\\n\\n\\n\\nIn-depth understanding of deploying .NET applications.\\n\\nPractical experience in Angular client side application development which is integrated with the API of the ASP.Net and FastAPI application\\n\\nCreating Python command-line scripts for task\\n\\nautomation.\\n\\nGen AI Marketplace\\n\\nPart of GenAI Garage Program Initiative of Capgemini India’s CTIO, build a platform using FastAPI and Swagger for comprehensive API documentation. This Platform enables users to upload various file formats such as PDFs, CSVs, etc., allowing a sophisticated language model to analyse the document for querying purposes\\n\\nPerforming data manipulation tasks using Python\\n\\nPresentation Title | Author | Date\\n\\nEducation and certificates Bachelor of Technology Computer Science and Engineering: 2019- 2023\\n\\nSkills C# Python .NET Core Framework ASP .NET MVC ASP .NET Web API JWT Authentication Python FastAPI Langchain Framework\\n\\nWeb Angular Typescript\\n\\nDatabase Microsoft SQL Server Vector database\\n\\nWeb Technologies HTML5 CSS3 Javascript Bootstrap\\n\\nAdd Ons Swagger Git-hub Docker\\n\\n© Capgemini 2017. All rights reserved |\\n\\n1', metadata={'source': 'C:\\\\Users\\\\PATALLAP\\\\Downloads\\\\46328674 - Panindhra Tallapudi.pdf'})]"
      ]
     },
     "execution_count": 4,
     "metadata": {},
     "output_type": "execute_result"
    }
   ],
   "source": [
    "loader = UnstructuredFileLoader(r\"C:\\Users\\PATALLAP\\Downloads\\46328674 - Panindhra Tallapudi.pdf\")\n",
    "load = loader.load()\n",
    "load"
   ]
  },
  {
   "cell_type": "code",
   "execution_count": 5,
   "metadata": {},
   "outputs": [],
   "source": [
    "\n",
    "from langchain_core.pydantic_v1 import BaseModel, Field\n",
    "from typing import List\n",
    "\n",
    "class EmployeeInformation(BaseModel):\n",
    "    \"\"\"Information about an image.\"\"\"\n",
    "    employee_id: str = Field(description=\"Employee id in the document\")\n",
    "    name: str = Field(description=\"Name of the employee in the document\")\n",
    "    experience: str = Field(description=\"Experience of the employee in the document\")\n",
    "    domain: str = Field(description=\"Domain in the document, if not mentioned try to figure it out with the details in the document\")\n",
    "    skills: List[str] = Field(description=\"List of skills mentioned by employee in the document\")"
   ]
  },
  {
   "cell_type": "code",
   "execution_count": 6,
   "metadata": {},
   "outputs": [],
   "source": [
    "from langchain_core.output_parsers import JsonOutputParser"
   ]
  },
  {
   "cell_type": "code",
   "execution_count": 7,
   "metadata": {},
   "outputs": [
    {
     "data": {
      "text/plain": [
       "'The output should be formatted as a JSON instance that conforms to the JSON schema below.\\n\\nAs an example, for the schema {\"properties\": {\"foo\": {\"title\": \"Foo\", \"description\": \"a list of strings\", \"type\": \"array\", \"items\": {\"type\": \"string\"}}}, \"required\": [\"foo\"]}\\nthe object {\"foo\": [\"bar\", \"baz\"]} is a well-formatted instance of the schema. The object {\"properties\": {\"foo\": [\"bar\", \"baz\"]}} is not well-formatted.\\n\\nHere is the output schema:\\n```\\n{\"description\": \"Information about an image.\", \"properties\": {\"employee_id\": {\"title\": \"Employee Id\", \"description\": \"Employee id in the document\", \"type\": \"string\"}, \"name\": {\"title\": \"Name\", \"description\": \"Name of the employee in the document\", \"type\": \"string\"}, \"experience\": {\"title\": \"Experience\", \"description\": \"Experience of the employee in the document\", \"type\": \"string\"}, \"domain\": {\"title\": \"Domain\", \"description\": \"Domain in the document, if not mentioned try to figure it out with the details in the document\", \"type\": \"string\"}, \"skills\": {\"title\": \"Skills\", \"description\": \"List of skills mentioned by employee in the document\", \"type\": \"array\", \"items\": {\"type\": \"string\"}}}, \"required\": [\"employee_id\", \"name\", \"experience\", \"domain\", \"skills\"]}\\n```'"
      ]
     },
     "execution_count": 7,
     "metadata": {},
     "output_type": "execute_result"
    }
   ],
   "source": [
    "parser = JsonOutputParser(pydantic_object=EmployeeInformation)\n",
    "parser.get_format_instructions()\n"
   ]
  },
  {
   "cell_type": "code",
   "execution_count": 8,
   "metadata": {},
   "outputs": [],
   "source": [
    "prompt = PromptTemplate(\n",
    "                input_variables=[\"data\"], template=upload_resume_prompt, partial_variables={\"format_instructions\": parser.get_format_instructions()}\n",
    "            )\n",
    "\n",
    "def get_llm(temperature=0.5):\n",
    "        return AzureChatOpenAI(\n",
    "            openai_api_version=\"2023-12-01-preview\",\n",
    "            azure_deployment=\"<your_deployment_name>\",\n",
    "            max_tokens=5000,\n",
    "            temperature = temperature\n",
    "        )\n"
   ]
  },
  {
   "cell_type": "code",
   "execution_count": 9,
   "metadata": {},
   "outputs": [],
   "source": [
    "llm_chain = LLMChain(\n",
    "    llm = get_llm(),\n",
    "    prompt = prompt\n",
    ")"
   ]
  },
  {
   "cell_type": "code",
   "execution_count": 10,
   "metadata": {},
   "outputs": [
    {
     "name": "stderr",
     "output_type": "stream",
     "text": [
      "c:\\FastAPI Projects\\HRTech.API\\venv\\Lib\\site-packages\\langchain_core\\_api\\deprecation.py:117: LangChainDeprecationWarning: The function `__call__` was deprecated in LangChain 0.1.0 and will be removed in 0.2.0. Use invoke instead.\n",
      "  warn_deprecated(\n"
     ]
    }
   ],
   "source": [
    "data = llm_chain(load)"
   ]
  },
  {
   "cell_type": "code",
   "execution_count": 11,
   "metadata": {},
   "outputs": [
    {
     "data": {
      "text/plain": [
       "'name: Panindhra Tallapudi\\nexperience: 2\\ndomain: IT industry\\nskills: C#, Python, .NET Core Framework, ASP .NET MVC, ASP .NET Web API, JWT Authentication, Python, FastAPI, Langchain Framework, Web Angular, Typescript, Database Microsoft SQL Server, Vector database, Web Technologies HTML5, CSS3, Javascript, Bootstrap, Add Ons Swagger, Git-hub, Docker'"
      ]
     },
     "execution_count": 11,
     "metadata": {},
     "output_type": "execute_result"
    }
   ],
   "source": [
    "data[\"text\"]"
   ]
  }
 ],
 "metadata": {
  "kernelspec": {
   "display_name": "venv",
   "language": "python",
   "name": "python3"
  },
  "language_info": {
   "codemirror_mode": {
    "name": "ipython",
    "version": 3
   },
   "file_extension": ".py",
   "mimetype": "text/x-python",
   "name": "python",
   "nbconvert_exporter": "python",
   "pygments_lexer": "ipython3",
   "version": "3.11.5"
  }
 },
 "nbformat": 4,
 "nbformat_minor": 2
}
